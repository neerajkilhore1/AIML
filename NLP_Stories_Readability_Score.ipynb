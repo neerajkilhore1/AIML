{
  "nbformat": 4,
  "nbformat_minor": 0,
  "metadata": {
    "colab": {
      "name": "Stories_Readability_Score.ipynb",
      "provenance": [],
      "collapsed_sections": []
    },
    "kernelspec": {
      "name": "python3",
      "display_name": "Python 3"
    }
  },
  "cells": [
    {
      "cell_type": "code",
      "metadata": {
        "id": "JgVZ_bzF2z3t",
        "colab_type": "code",
        "colab": {}
      },
      "source": [
        "import pandas as pd\n",
        "import os\n",
        "import glob\n",
        "import numpy as np"
      ],
      "execution_count": 0,
      "outputs": []
    },
    {
      "cell_type": "code",
      "metadata": {
        "id": "yPUKevq29BIV",
        "colab_type": "code",
        "colab": {}
      },
      "source": [
        "import warnings\n",
        "warnings.filterwarnings('ignore')"
      ],
      "execution_count": 0,
      "outputs": []
    },
    {
      "cell_type": "code",
      "metadata": {
        "id": "FI_2gO-cC_gP",
        "colab_type": "code",
        "colab": {
          "base_uri": "https://localhost:8080/",
          "height": 52
        },
        "outputId": "b666cb56-bf9a-45ed-a9ca-e230b4ac9e3a"
      },
      "source": [
        "!pip install textstat\n"
      ],
      "execution_count": 32,
      "outputs": [
        {
          "output_type": "stream",
          "text": [
            "Requirement already satisfied: textstat in /usr/local/lib/python3.6/dist-packages (0.6.0)\n",
            "Requirement already satisfied: pyphen in /usr/local/lib/python3.6/dist-packages (from textstat) (0.9.5)\n"
          ],
          "name": "stdout"
        }
      ]
    },
    {
      "cell_type": "code",
      "metadata": {
        "id": "JhTq3seyk1Nd",
        "colab_type": "code",
        "outputId": "9b083185-58b1-45af-e68b-6deafb1ed5da",
        "colab": {
          "base_uri": "https://localhost:8080/",
          "height": 35
        }
      },
      "source": [
        "from google.colab import drive\n",
        "drive.mount('/content/drive/')"
      ],
      "execution_count": 33,
      "outputs": [
        {
          "output_type": "stream",
          "text": [
            "Drive already mounted at /content/drive/; to attempt to forcibly remount, call drive.mount(\"/content/drive/\", force_remount=True).\n"
          ],
          "name": "stdout"
        }
      ]
    },
    {
      "cell_type": "code",
      "metadata": {
        "id": "4hYoZnRel2MM",
        "colab_type": "code",
        "colab": {}
      },
      "source": [
        "filelist = []\n",
        "filesList = []\n",
        "my_dir='/content/drive/My Drive/DeepLearning/DataScienceAssignment/StoryTextFiles'\n",
        "os.chdir( my_dir )"
      ],
      "execution_count": 0,
      "outputs": []
    },
    {
      "cell_type": "code",
      "metadata": {
        "id": "Lm3PeqKE-VZm",
        "colab_type": "code",
        "colab": {}
      },
      "source": [
        "file_names = os.listdir('/content/drive/My Drive/DeepLearning/DataScienceAssignment/StoryTextFiles/')\n",
        "# Create Dictionary for File Name and Text\n",
        "file_name_and_text = {}\n",
        "for file in file_names:\n",
        "    with open('/content/drive/My Drive/DeepLearning/DataScienceAssignment/StoryTextFiles/' + file, \"r\") as target_file:\n",
        "         file_name_and_text[file] = target_file.read()\n",
        "file_data = (pd.DataFrame.from_dict(file_name_and_text, orient='index')\n",
        "             .reset_index().rename(index = str, columns = {'index': 'file_name', 0: 'text'}))"
      ],
      "execution_count": 0,
      "outputs": []
    },
    {
      "cell_type": "code",
      "metadata": {
        "id": "IpO18ky4_uQ8",
        "colab_type": "code",
        "colab": {
          "base_uri": "https://localhost:8080/",
          "height": 35
        },
        "outputId": "c7a3953e-826f-4505-9e40-2337b90f2e18"
      },
      "source": [
        "file_data.shape"
      ],
      "execution_count": 36,
      "outputs": [
        {
          "output_type": "execute_result",
          "data": {
            "text/plain": [
              "(556, 2)"
            ]
          },
          "metadata": {
            "tags": []
          },
          "execution_count": 36
        }
      ]
    },
    {
      "cell_type": "code",
      "metadata": {
        "id": "NdidS5T7_xXn",
        "colab_type": "code",
        "colab": {
          "base_uri": "https://localhost:8080/",
          "height": 202
        },
        "outputId": "4ee4c0c5-5761-4270-e3e1-4c8c3bc359bb"
      },
      "source": [
        "file_data.head()"
      ],
      "execution_count": 37,
      "outputs": [
        {
          "output_type": "execute_result",
          "data": {
            "text/html": [
              "<div>\n",
              "<style scoped>\n",
              "    .dataframe tbody tr th:only-of-type {\n",
              "        vertical-align: middle;\n",
              "    }\n",
              "\n",
              "    .dataframe tbody tr th {\n",
              "        vertical-align: top;\n",
              "    }\n",
              "\n",
              "    .dataframe thead th {\n",
              "        text-align: right;\n",
              "    }\n",
              "</style>\n",
              "<table border=\"1\" class=\"dataframe\">\n",
              "  <thead>\n",
              "    <tr style=\"text-align: right;\">\n",
              "      <th></th>\n",
              "      <th>file_name</th>\n",
              "      <th>text</th>\n",
              "    </tr>\n",
              "  </thead>\n",
              "  <tbody>\n",
              "    <tr>\n",
              "      <th>0</th>\n",
              "      <td>103.txt</td>\n",
              "      <td>A cloud rolled along merrily in the sky.The pe...</td>\n",
              "    </tr>\n",
              "    <tr>\n",
              "      <th>1</th>\n",
              "      <td>10.txt</td>\n",
              "      <td>On a cliff there lived a young vulture with hi...</td>\n",
              "    </tr>\n",
              "    <tr>\n",
              "      <th>2</th>\n",
              "      <td>100.txt</td>\n",
              "      <td>Have you met my Aaji? Everyone says that my Aa...</td>\n",
              "    </tr>\n",
              "    <tr>\n",
              "      <th>3</th>\n",
              "      <td>102.txt</td>\n",
              "      <td>“A perfect day for a walk!” thinks Mr. Centipe...</td>\n",
              "    </tr>\n",
              "    <tr>\n",
              "      <th>4</th>\n",
              "      <td>105.txt</td>\n",
              "      <td>Amma is visiting Nani. Tara and Mini are waiti...</td>\n",
              "    </tr>\n",
              "  </tbody>\n",
              "</table>\n",
              "</div>"
            ],
            "text/plain": [
              "  file_name                                               text\n",
              "0   103.txt  A cloud rolled along merrily in the sky.The pe...\n",
              "1    10.txt  On a cliff there lived a young vulture with hi...\n",
              "2   100.txt  Have you met my Aaji? Everyone says that my Aa...\n",
              "3   102.txt  “A perfect day for a walk!” thinks Mr. Centipe...\n",
              "4   105.txt  Amma is visiting Nani. Tara and Mini are waiti..."
            ]
          },
          "metadata": {
            "tags": []
          },
          "execution_count": 37
        }
      ]
    },
    {
      "cell_type": "code",
      "metadata": {
        "id": "ERVrNIKIMdDN",
        "colab_type": "code",
        "colab": {}
      },
      "source": [
        "import spacy \n",
        "from textstat.textstat import textstatistics, easy_word_set, legacy_round "
      ],
      "execution_count": 0,
      "outputs": []
    },
    {
      "cell_type": "code",
      "metadata": {
        "id": "C5pEIijyCoPm",
        "colab_type": "code",
        "colab": {}
      },
      "source": [
        "# Splits the text into sentences, using  \n",
        "def break_sentences(text): \n",
        "    nlp = spacy.load('en') \n",
        "    doc = nlp(text) \n",
        "    return [sent.string.strip() for sent in doc]"
      ],
      "execution_count": 0,
      "outputs": []
    },
    {
      "cell_type": "code",
      "metadata": {
        "id": "G2x2gKyhUEJV",
        "colab_type": "code",
        "colab": {}
      },
      "source": [
        "# Returns Number of Words in the text \n",
        "def word_count(text): \n",
        "    sentences = break_sentences(text) \n",
        "    words = 0\n",
        "    for sentence in sentences: \n",
        "        words += len([token for token in sentence]) \n",
        "    return words"
      ],
      "execution_count": 0,
      "outputs": []
    },
    {
      "cell_type": "code",
      "metadata": {
        "id": "-cffcJp8Brl-",
        "colab_type": "code",
        "colab": {}
      },
      "source": [
        "# Returns the number of sentences in the text \n",
        "def sentence_count(text): \n",
        "    sentences = break_sentences(text) \n",
        "    return len(sentences)"
      ],
      "execution_count": 0,
      "outputs": []
    },
    {
      "cell_type": "code",
      "metadata": {
        "id": "ZtxpEwi0ULQE",
        "colab_type": "code",
        "colab": {}
      },
      "source": [
        "# Returns average sentence length \n",
        "def avg_sentence_length(text): \n",
        "    words = word_count(text) \n",
        "    sentences = sentence_count(text)\n",
        "    average_sentence_length=0\n",
        "    if(sentences>0):\n",
        "      average_sentence_length = float(words / sentences) \n",
        "    return average_sentence_length"
      ],
      "execution_count": 0,
      "outputs": []
    },
    {
      "cell_type": "code",
      "metadata": {
        "id": "Gt4UOFK6UN94",
        "colab_type": "code",
        "colab": {}
      },
      "source": [
        "# Textstat is a python package, to calculate statistics from  \n",
        "# text to determine readability,  \n",
        "# complexity and grade level of a particular corpus. \n",
        "def syllables_count(word): \n",
        "    return textstatistics().syllable_count(word)"
      ],
      "execution_count": 0,
      "outputs": []
    },
    {
      "cell_type": "code",
      "metadata": {
        "id": "sB_8gSamUTNL",
        "colab_type": "code",
        "colab": {}
      },
      "source": [
        "# Returns the average number of syllables per \n",
        "# word in the text \n",
        "def avg_syllables_per_word(text): \n",
        "    syllable = syllables_count(text) \n",
        "    words = word_count(text) \n",
        "    ASPW=0\n",
        "    if(words>0):\n",
        "      ASPW = float(syllable) / float(words) \n",
        "    return legacy_round(ASPW, 1) "
      ],
      "execution_count": 0,
      "outputs": []
    },
    {
      "cell_type": "code",
      "metadata": {
        "id": "p96JcmRyUVJn",
        "colab_type": "code",
        "colab": {}
      },
      "source": [
        "# Return total Difficult Words in a text \n",
        "def difficult_words(text): \n",
        "  \n",
        "    # Find all words in the text \n",
        "    words = [] \n",
        "    sentences = break_sentences(text) \n",
        "    for sentence in sentences: \n",
        "        words += [str(token) for token in sentence] \n",
        "  \n",
        "    # difficult words are those with syllables >= 2 \n",
        "    # easy_word_set is provide by Textstat as  \n",
        "    # a list of common words \n",
        "    diff_words_set = set() \n",
        "      \n",
        "    for word in words: \n",
        "        syllable_count = syllables_count(word) \n",
        "        if word not in easy_word_set and syllable_count >= 2: \n",
        "            diff_words_set.add(word) \n",
        "  \n",
        "    return len(diff_words_set) "
      ],
      "execution_count": 0,
      "outputs": []
    },
    {
      "cell_type": "code",
      "metadata": {
        "id": "mmyAqSdEUZEs",
        "colab_type": "code",
        "colab": {}
      },
      "source": [
        "# A word is polysyllablic if it has more than 3 syllables \n",
        "# this functions returns the number of all such words  \n",
        "# present in the text \n",
        "def poly_syllable_count(text): \n",
        "    count = 0\n",
        "    words = [] \n",
        "    sentences = break_sentences(text) \n",
        "    for sentence in sentences: \n",
        "        words += [token for token in sentence] \n",
        "      \n",
        "  \n",
        "    for word in words: \n",
        "        syllable_count = syllables_count(word) \n",
        "        if syllable_count >= 3: \n",
        "            count += 1\n",
        "    return count"
      ],
      "execution_count": 0,
      "outputs": []
    },
    {
      "cell_type": "code",
      "metadata": {
        "id": "6hVhg2ZkUom0",
        "colab_type": "code",
        "colab": {}
      },
      "source": [
        "def dale_chall_readability_score(text): \n",
        "    \"\"\" \n",
        "        Implements Dale Challe Formula: \n",
        "        Raw score = 0.1579*(PDW) + 0.0496*(ASL) + 3.6365 \n",
        "        Here, \n",
        "            PDW = Percentage of difficult words. \n",
        "            ASL = Average sentence length \n",
        "    \"\"\"\n",
        "    per=0\n",
        "    words= word_count(text)\n",
        "    difficult_word=difficult_words(text)\n",
        "    # Number of words not termed as difficult words \n",
        "    count = words -  difficult_word\n",
        "    if words > 0: \n",
        "        # Percentage of words not on difficult word list \n",
        "        per = float(count) / float(words) * 100\n",
        "      \n",
        "    # diff_words stores percentage of difficult words \n",
        "    diff_words = 100 - per \n",
        "  \n",
        "    raw_score = (0.1579 * diff_words) + (0.0496 * avg_sentence_length(text)) \n",
        "      \n",
        "    # If Percentage of Difficult Words is greater than 5 %, then; \n",
        "    # Adjusted Score = Raw Score + 3.6365, \n",
        "    # otherwise Adjusted Score = Raw Score \n",
        "  \n",
        "    if diff_words > 5:        \n",
        "  \n",
        "        raw_score += 3.6365\n",
        "          \n",
        "    return legacy_round(raw_score, 2)"
      ],
      "execution_count": 0,
      "outputs": []
    },
    {
      "cell_type": "code",
      "metadata": {
        "id": "GIMWRBNRXEzv",
        "colab_type": "code",
        "colab": {}
      },
      "source": [
        "file_data1=file_data;"
      ],
      "execution_count": 0,
      "outputs": []
    },
    {
      "cell_type": "code",
      "metadata": {
        "id": "QmZCLSRqs-bY",
        "colab_type": "code",
        "colab": {}
      },
      "source": [
        "#file_data['dale_chall_readability_score']=0\n",
        "score=[]"
      ],
      "execution_count": 0,
      "outputs": []
    },
    {
      "cell_type": "code",
      "metadata": {
        "id": "gjppkyvQU0H7",
        "colab_type": "code",
        "colab": {}
      },
      "source": [
        "for ind in file_data.index: \n",
        "  story=file_data['text'][ind]\n",
        "  #file_data['dale_chall_readability_score'][ind]=dale_chall_readability_score(story)\n",
        "  score = np.append(score, dale_chall_readability_score(story))\n",
        "\n",
        "  #print(\"file_data['dale_chall_readability_score'][ind]\",file_data['dale_chall_readability_score'][ind])\n",
        "\n",
        "file_data['dale_chall_readability_score']=score;"
      ],
      "execution_count": 0,
      "outputs": []
    },
    {
      "cell_type": "code",
      "metadata": {
        "id": "1Vhgn40A5hm-",
        "colab_type": "code",
        "colab": {
          "base_uri": "https://localhost:8080/",
          "height": 415
        },
        "outputId": "ba55d99c-465e-4805-8544-b84ef1f469ca"
      },
      "source": [
        "file_data"
      ],
      "execution_count": 51,
      "outputs": [
        {
          "output_type": "execute_result",
          "data": {
            "text/html": [
              "<div>\n",
              "<style scoped>\n",
              "    .dataframe tbody tr th:only-of-type {\n",
              "        vertical-align: middle;\n",
              "    }\n",
              "\n",
              "    .dataframe tbody tr th {\n",
              "        vertical-align: top;\n",
              "    }\n",
              "\n",
              "    .dataframe thead th {\n",
              "        text-align: right;\n",
              "    }\n",
              "</style>\n",
              "<table border=\"1\" class=\"dataframe\">\n",
              "  <thead>\n",
              "    <tr style=\"text-align: right;\">\n",
              "      <th></th>\n",
              "      <th>file_name</th>\n",
              "      <th>text</th>\n",
              "      <th>dale_chall_readability_score</th>\n",
              "    </tr>\n",
              "  </thead>\n",
              "  <tbody>\n",
              "    <tr>\n",
              "      <th>0</th>\n",
              "      <td>103.txt</td>\n",
              "      <td>A cloud rolled along merrily in the sky.The pe...</td>\n",
              "      <td>0.18</td>\n",
              "    </tr>\n",
              "    <tr>\n",
              "      <th>1</th>\n",
              "      <td>10.txt</td>\n",
              "      <td>On a cliff there lived a young vulture with hi...</td>\n",
              "      <td>0.18</td>\n",
              "    </tr>\n",
              "    <tr>\n",
              "      <th>2</th>\n",
              "      <td>100.txt</td>\n",
              "      <td>Have you met my Aaji? Everyone says that my Aa...</td>\n",
              "      <td>0.17</td>\n",
              "    </tr>\n",
              "    <tr>\n",
              "      <th>3</th>\n",
              "      <td>102.txt</td>\n",
              "      <td>“A perfect day for a walk!” thinks Mr. Centipe...</td>\n",
              "      <td>0.17</td>\n",
              "    </tr>\n",
              "    <tr>\n",
              "      <th>4</th>\n",
              "      <td>105.txt</td>\n",
              "      <td>Amma is visiting Nani. Tara and Mini are waiti...</td>\n",
              "      <td>0.17</td>\n",
              "    </tr>\n",
              "    <tr>\n",
              "      <th>...</th>\n",
              "      <td>...</td>\n",
              "      <td>...</td>\n",
              "      <td>...</td>\n",
              "    </tr>\n",
              "    <tr>\n",
              "      <th>551</th>\n",
              "      <td>453.txt</td>\n",
              "      <td>2One day, an ant went looking for food. She fo...</td>\n",
              "      <td>0.18</td>\n",
              "    </tr>\n",
              "    <tr>\n",
              "      <th>552</th>\n",
              "      <td>452.txt</td>\n",
              "      <td>TextTHE ENDSUPERCOW This story is entirely fic...</td>\n",
              "      <td>0.21</td>\n",
              "    </tr>\n",
              "    <tr>\n",
              "      <th>553</th>\n",
              "      <td>450.txt</td>\n",
              "      <td>I could not believe my eyes when I saw her for...</td>\n",
              "      <td>0.18</td>\n",
              "    </tr>\n",
              "    <tr>\n",
              "      <th>554</th>\n",
              "      <td>451.txt</td>\n",
              "      <td>There once was a boy who could run and jump an...</td>\n",
              "      <td>0.16</td>\n",
              "    </tr>\n",
              "    <tr>\n",
              "      <th>555</th>\n",
              "      <td>463.txt</td>\n",
              "      <td>This is Zandi. She has a friend that no one el...</td>\n",
              "      <td>0.19</td>\n",
              "    </tr>\n",
              "  </tbody>\n",
              "</table>\n",
              "<p>556 rows × 3 columns</p>\n",
              "</div>"
            ],
            "text/plain": [
              "    file_name  ... dale_chall_readability_score\n",
              "0     103.txt  ...                         0.18\n",
              "1      10.txt  ...                         0.18\n",
              "2     100.txt  ...                         0.17\n",
              "3     102.txt  ...                         0.17\n",
              "4     105.txt  ...                         0.17\n",
              "..        ...  ...                          ...\n",
              "551   453.txt  ...                         0.18\n",
              "552   452.txt  ...                         0.21\n",
              "553   450.txt  ...                         0.18\n",
              "554   451.txt  ...                         0.16\n",
              "555   463.txt  ...                         0.19\n",
              "\n",
              "[556 rows x 3 columns]"
            ]
          },
          "metadata": {
            "tags": []
          },
          "execution_count": 51
        }
      ]
    },
    {
      "cell_type": "code",
      "metadata": {
        "id": "wOU2itbNtEDW",
        "colab_type": "code",
        "colab": {}
      },
      "source": [
        "\n",
        "\n",
        "\n"
      ],
      "execution_count": 0,
      "outputs": []
    },
    {
      "cell_type": "code",
      "metadata": {
        "id": "ASSejKSeZNcS",
        "colab_type": "code",
        "colab": {}
      },
      "source": [
        ""
      ],
      "execution_count": 0,
      "outputs": []
    }
  ]
}